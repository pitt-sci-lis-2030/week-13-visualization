{
 "cells": [
  {
   "cell_type": "markdown",
   "metadata": {},
   "source": [
    "# Week 13 Exercises -  Data Visualization"
   ]
  },
  {
   "cell_type": "markdown",
   "metadata": {},
   "source": [
    "## Q1. Word Cloud\n",
    "For this question you will make a word cloud from data stored in a CSV file containing information about scholarly publications. From this dataset you will create a word cloud visualization of a specific article's abstract.\n",
    "\n",
    "* Load the necessary libraries\n",
    "* Read the file \"scopus.csv\" into a Pandas Dataframe \n",
    "* Select the article titled *Open data from authoritarian regimes: New opportunities, new challenges*. \n",
    "* Create a word cloud from the *Abstract*\n",
    "    * Be sure to exclude the words: `is, the, of, in, and, that, has, have, these, been, to, on, in, we` from the word cloud.\n",
    "\n",
    "Remember set the background color (any color you prefer)\n",
    "\n",
    "Here's a preview (backgournd color: white) of what you'll be making:\n",
    "\n",
    "![figure1](files/figure1.png) "
   ]
  },
  {
   "cell_type": "code",
   "execution_count": null,
   "metadata": {},
   "outputs": [],
   "source": [
    "# your code here\n"
   ]
  },
  {
   "cell_type": "code",
   "execution_count": null,
   "metadata": {},
   "outputs": [],
   "source": []
  },
  {
   "cell_type": "markdown",
   "metadata": {},
   "source": [
    "## Q2. Mapping with Geopandas! \n",
    "\n",
    "In this question, you will using Geopandas, Pandas and Matplotlib to make a [Choropleth map](https://datavizcatalogue.com/methods/choropleth.html) of fire incidents in Pittsburgh. This means we will visually represent the number of fires per neighborhood in the city.\n",
    "\n",
    "Complete the following steps in the cell provided below:\n",
    "\n",
    "1. Load in the `pgh_neighborhoods.geojson` file using *geopandas* (not pandas) and make sure it is a GEOdataframe by plotting it to see if it makes a map. \n",
    "2. Load the fire incidents data (`.csv`) into a *Pandas* Dataframe (not geopandas).\n",
    "3. Group and aggregate the fire incidents data so each row represents a neighborhood (instead of an incident).\n",
    "    * **Hint** For the aggregation, consider counting\n",
    "4. *Merge* the fire incident data into the neighborhood data using the columns with shared data to join. Save the resulting GEOdataframe into a new variable and confirm it is a GEOdataframe by plotting to see if it makes a map (instead of chart)\n",
    "    * The dataframe you are merging into should be on the *left*\n",
    "5. Plot fire incidents per neighborhood using the *fire_zone* column as your data\n",
    "6. Make some aesthetic changes to the plot\n",
    "    * Change the color map to \"Blues\" (or maybe something more fire-y).\n",
    "    * Add some line width and edge color to the neighborhood boundaries\n",
    "    * Disable the axis\n",
    "    * Add a title \"Fire incidents per neighborhood\"\n",
    "    * Add a legend color bar\n",
    "    * (Optional) Annotate to indicate the source of the data\n",
    "\n",
    "\n",
    "\n",
    "Here's a preview of what you'll be making:\n",
    "\n",
    "![figure3](files/figure3.png)\n",
    "\n"
   ]
  },
  {
   "cell_type": "code",
   "execution_count": null,
   "metadata": {},
   "outputs": [],
   "source": [
    "# Your code here\n"
   ]
  },
  {
   "cell_type": "code",
   "execution_count": null,
   "metadata": {},
   "outputs": [],
   "source": []
  },
  {
   "cell_type": "markdown",
   "metadata": {},
   "source": [
    "## (BONUS) Q3. Pandas and Matplotlib\n",
    "\n",
    "Complete this question for bonus points.\n",
    "\n",
    "The following code cell generates two gradebbook dictionaries **S20** and **S21** from a fictional course LIS0001 - Introduction to the Science of Libraries n'at:\n",
    "* `S20` is the gradebook dictionary for Spring 2020 instance of LIS0001\n",
    "* `S21` is the gradebook dictionary for Spring 2021 instance of LIS0001 \n",
    "\n",
    "Using these data, create a line graph showing the *average* lab and project scores for all students. Display the data for both semesters of the course on one chart. \n",
    "\n",
    "* Run the cell below to create python dictionaries of the data\n",
    "* Convert the dictionaries to DataFrames\n",
    "* Calculate the average values the labs and projects and save to a new variable \n",
    "    * **Hint**: You might need to flip the rows and columns of the data. Use the *transpose* the gradebook use the `.T` function, and mean() function to calculate lab and project scores\n",
    "* Create a line plot with each lab and project on the X axis and the grade on the Y axis.\n",
    "    * Label the x axis `Assignment`, \n",
    "    * Label the y axis as `Grade`\n",
    "    * The title should be `LIS 0001 Gradebook Line Graph`\n",
    "\n",
    "\n",
    "Here's a preview of what you'll be making:\n",
    "\n",
    "![figure2](files/figure2.png) \n",
    "\n",
    "\n",
    "*All grades and persons in these data are purely fictional. Any resemblance to actual grades or persons is purely coincidental.* "
   ]
  },
  {
   "cell_type": "code",
   "execution_count": 1,
   "metadata": {},
   "outputs": [],
   "source": [
    "# create two dictionaries of class data\n",
    "\n",
    "S20 = dict() #Spring 2020 LIS0001\n",
    "\n",
    "S20['nova'] = {'lab1': 100, 'lab2' : 100, 'lab3' : 95, 'lab4' : 90, 'lab5' : 100, 'project1' : 100, 'project2' : 95, 'project3' : 90}\n",
    "S20['benny'] = {'lab1': 100, 'lab2' : 80, 'lab3' : 70, 'lab4' : 90, 'lab5' : 100, 'project1' : 90, 'project2' : 88, 'project3' : 98}\n",
    "S20['joe'] = {'lab1': 100, 'lab2' : 80, 'lab3' : 70, 'lab4' : 90, 'lab5' : 100, 'project1' : 100, 'project2' : 85, 'project3' : 90}\n",
    "S20['summer'] = {'lab1': 90, 'lab2' : 85, 'lab3' : 95, 'lab4' : 90, 'lab5' : 90, 'project1' : 100, 'project2' : 78, 'project3' : 88}\n",
    "S20['ace'] = {'lab1': 80, 'lab2' : 90, 'lab3' : 70, 'lab4' : 90, 'lab5' : 100, 'project1' : 95, 'project2' : 93, 'project3' : 99}\n",
    "S20['reese'] = {'lab1': 100, 'lab2' : 90, 'lab3' : 75, 'lab4' : 100, 'lab5' : 95, 'project1' : 90, 'project2' : 82, 'project3' : 92}\n",
    "\n",
    "\n",
    "S21 = dict()  #Spring 2021 LIS0001\n",
    "\n",
    "S21['will'] = {'lab1': 90, 'lab2' : 70, 'lab3' : 60, 'lab4' : 100, 'lab5' : 100, 'project1' : 80, 'project2' : 88, 'project3' : 90}\n",
    "S21['harry'] = {'lab1': 80, 'lab2' : 90, 'lab3' : 85, 'lab4' : 95, 'lab5' : 90, 'project1' : 70, 'project2' : 85, 'project3' : 95}\n",
    "S21['philip'] = {'lab1': 88, 'lab2' : 95, 'lab3' : 100, 'lab4' : 95, 'lab5' : 100, 'project1' : 100, 'project2' : 82, 'project3' : 94}\n",
    "S21['moss'] = {'lab1': 84, 'lab2' : 90, 'lab3' : 95, 'lab4' : 92, 'lab5' : 90, 'project1' : 87, 'project2' : 98, 'project3' : 88}\n",
    "S21['kenny'] = {'lab1': 87, 'lab2' : 85, 'lab3' : 100, 'lab4' : 92, 'lab5' : 100, 'project1' : 92, 'project2' : 95, 'project3' : 80}\n",
    "S21['carl'] = {'lab1': 92, 'lab2' : 100, 'lab3' : 90, 'lab4' : 88, 'lab5' : 85, 'project1' : 95, 'project2' : 88, 'project3' : 95}"
   ]
  },
  {
   "cell_type": "code",
   "execution_count": null,
   "metadata": {},
   "outputs": [],
   "source": [
    "# Your code here\n"
   ]
  }
 ],
 "metadata": {
  "kernelspec": {
   "display_name": "Python 3",
   "language": "python",
   "name": "python3"
  },
  "language_info": {
   "codemirror_mode": {
    "name": "ipython",
    "version": 3
   },
   "file_extension": ".py",
   "mimetype": "text/x-python",
   "name": "python",
   "nbconvert_exporter": "python",
   "pygments_lexer": "ipython3",
   "version": "3.8.8"
  }
 },
 "nbformat": 4,
 "nbformat_minor": 4
}
